{
 "cells": [
  {
   "cell_type": "code",
   "execution_count": 1,
   "metadata": {},
   "outputs": [],
   "source": [
    "sentence_1 =True\n",
    "sentence_2 =False\n",
    "sentence_3 =True"
   ]
  },
  {
   "cell_type": "code",
   "execution_count": 6,
   "metadata": {},
   "outputs": [],
   "source": [
    "p_basic = 27/100\n",
    "p_premium = 13/100\n",
    "p_gold = 3/100\n",
    "\n",
    "p_premium_or_basic = p_basic + p_premium\n",
    "p_any_subscription = p_basic + p_premium + p_gold\n",
    "p_premium_and_basic = 0\n",
    "p_no_subscription =  1 - (p_basic + p_premium + p_gold)\n",
    "p_sub_or_no_sub = p_no_subscription + p_any_subscription"
   ]
  },
  {
   "cell_type": "code",
   "execution_count": 21,
   "metadata": {},
   "outputs": [],
   "source": [
    "p_summer = 64/132\n",
    "p_winter = 21/132\n",
    "p_both = 15/132\n",
    "\n",
    "p_summer_and_winter = p_both\n",
    "p_summer_or_winter = p_summer + p_winter - p_both\n",
    "n_no_vacation = 132 - (64+21-15)\n",
    "p_no_vacation = n_no_vacation/132"
   ]
  },
  {
   "cell_type": "code",
   "execution_count": 27,
   "metadata": {},
   "outputs": [],
   "source": [
    "p_a = 152 / 974\n",
    "p_b = 68 / 974\n",
    "p_a_or_b = 211/974"
   ]
  },
  {
   "cell_type": "code",
   "execution_count": 29,
   "metadata": {},
   "outputs": [],
   "source": [
    "p_a_and_b = p_a + p_b - p_a_or_b\n",
    "n_no_click = 974 - 211\n",
    "p_no_click = n_no_click/974"
   ]
  },
  {
   "cell_type": "code",
   "execution_count": 30,
   "metadata": {},
   "outputs": [],
   "source": [
    "sentence_1 = False\n",
    "sentence_2 = True\n",
    "sentence_3 = False\n",
    "sentence_4 = True"
   ]
  },
  {
   "cell_type": "code",
   "execution_count": null,
   "metadata": {},
   "outputs": [],
   "source": [
    "A = [1,3,5]\n",
    "B = [2,4,6]\n",
    "C = [3,4,5,6]\n",
    "\n",
    "A_and_B = []\n",
    "A_and_C = [3,5]\n",
    "B_and_C = [4,6]\n",
    "\n",
    "A_or_B = [1,2,3,4,5,6]\n",
    "A_or_C = [1,3,4,5,6]\n",
    "B_or_C = [2,3,4,5,6]\n",
    "A_or_B_or_C = [1,2,3,4,5,6]\n"
   ]
  }
 ],
 "metadata": {
  "kernelspec": {
   "display_name": "'Python Interactive'",
   "language": "python",
   "name": "1d4e2c9e-28ad-43eb-ad59-0dfcefc68a99"
  },
  "language_info": {
   "codemirror_mode": {
    "name": "ipython",
    "version": 3
   },
   "file_extension": ".py",
   "mimetype": "text/x-python",
   "name": "python",
   "nbconvert_exporter": "python",
   "pygments_lexer": "ipython3",
   "version": "3.6.4"
  },
  "latex_envs": {
   "LaTeX_envs_menu_present": true,
   "autoclose": false,
   "autocomplete": true,
   "bibliofile": "biblio.bib",
   "cite_by": "apalike",
   "current_citInitial": 1,
   "eqLabelWithNumbers": true,
   "eqNumInitial": 1,
   "hotkeys": {
    "equation": "Ctrl-E",
    "itemize": "Ctrl-I"
   },
   "labels_anchors": false,
   "latex_user_defs": false,
   "report_style_numbering": false,
   "user_envs_cfg": false
  }
 },
 "nbformat": 4,
 "nbformat_minor": 2
}
