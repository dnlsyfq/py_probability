{
 "cells": [
  {
   "cell_type": "markdown",
   "metadata": {},
   "source": [
    "$P(A \\cup B) = P(A) + P(B) - P(A \\cap B)$\n",
    "<br>\n",
    "<br>\n",
    "$P(E)=\\large \\frac{\\text {number of times event E happened}}{\\text {number of times we repeated the experiment}}$"
   ]
  },
  {
   "cell_type": "code",
   "execution_count": 1,
   "metadata": {},
   "outputs": [],
   "source": [
    "p_a = 12/100\n",
    "p_b = 17 / 100\n",
    "p_a_and_b = 3/100\n",
    "p_a_or_b = p_a + p_b - p_a_and_b\n"
   ]
  },
  {
   "cell_type": "markdown",
   "metadata": {},
   "source": [
    "**Probability of any event ranges between**\n",
    "\n",
    "<br>\n",
    "\n",
    "$0 <= P(E) <= 1$\n",
    "\n",
    "<img src=\"img/pr1m2_range.png\">\n",
    "\n",
    "\n",
    "\n",
    "**Probability of an event that contains all the outcomes of the sample space is 1**\n",
    "\n",
    "\n",
    "$P(\\Omega)=1$\n",
    "\n",
    "e.g.\n",
    "\n",
    "> $A = \\{1,2,3,4,5,6\\}$ <br><br>\n",
    "$\\Omega = \\{1,2,3,4,5,6\\}$<br><br>\n",
    "$P(A) = \\frac{6}{6} = 1 = P(\\Omega)$\n",
    "\n",
    "---\n",
    "\n",
    "Now consider the two events below, which we're going to call \"B\" and \"non-B\":\n",
    "\n",
    "    1.Getting a 2 when rolling a fair six-sided die (event B)\n",
    "    2.Not getting a 2 when rolling a fair six-sided die (event non-B)\n",
    "\n",
    "\n",
    "$B = \\{2\\}$ <br><br>\n",
    "$non-B = \\{1,3,4,5,6\\}$ <br><br>\n",
    "\n",
    "* mutually exclusive\n",
    "\n",
    "$P(B \\cup non-B) = P(B) + P(non-B)$ = $\\frac{1}{6} + \\frac{5}{6} = 1$"
   ]
  },
  {
   "cell_type": "markdown",
   "metadata": {},
   "source": [
    "---\n",
    "\n",
    "for any random experiment either event \"E\" or \"non-E\" will happen, so the event \"E or non-E\" is certain and has a probability of 1\n",
    "\n",
    "$P(E \\cup non-E) = P(E) + P(non-E) = 1$ <br><br>\n",
    "$P(E) = 1 - P(non-E)$"
   ]
  },
  {
   "cell_type": "code",
   "execution_count": 2,
   "metadata": {},
   "outputs": [],
   "source": [
    "p_basic = 0.2\n",
    "p_premium = 0.15\n",
    "p_non_basic = 1 - p_basic\n",
    "p_non_premium = 1 - p_premium\n",
    "p_subscription = p_basic + p_premium\n",
    "p_non_subscription = 1 - p_subscription"
   ]
  },
  {
   "cell_type": "markdown",
   "metadata": {},
   "source": [
    "### Complex Probability \n",
    "\n",
    "Case : find the probability that it takes three flips or more for a coin to land heads up\n",
    "\n",
    "event A from 3 to infinite no. of flips , each number represents the number of flips it takes until we first get heads up\n",
    "\n",
    "$A = \\{3,4,5,....\\}$\n",
    "\n",
    "The opposite of event A (it takes less than three flips for the coin to land heads up)\n",
    "\n",
    "$non-A = \\{1,2\\}$\n",
    "\n",
    "\n",
    "In this random experiment, either A or non-A will happen :\n",
    "\n",
    "$P(A \\cup non-A) = P(A) + P(non-A) = 1$"
   ]
  },
  {
   "cell_type": "code",
   "execution_count": null,
   "metadata": {},
   "outputs": [],
   "source": []
  }
 ],
 "metadata": {
  "kernelspec": {
   "display_name": "'Python Interactive'",
   "language": "python",
   "name": "1d4e2c9e-28ad-43eb-ad59-0dfcefc68a99"
  },
  "language_info": {
   "codemirror_mode": {
    "name": "ipython",
    "version": 3
   },
   "file_extension": ".py",
   "mimetype": "text/x-python",
   "name": "python",
   "nbconvert_exporter": "python",
   "pygments_lexer": "ipython3",
   "version": "3.6.4"
  },
  "latex_envs": {
   "LaTeX_envs_menu_present": true,
   "autoclose": false,
   "autocomplete": true,
   "bibliofile": "biblio.bib",
   "cite_by": "apalike",
   "current_citInitial": 1,
   "eqLabelWithNumbers": true,
   "eqNumInitial": 1,
   "hotkeys": {
    "equation": "Ctrl-E",
    "itemize": "Ctrl-I"
   },
   "labels_anchors": false,
   "latex_user_defs": false,
   "report_style_numbering": false,
   "user_envs_cfg": false
  }
 },
 "nbformat": 4,
 "nbformat_minor": 2
}
