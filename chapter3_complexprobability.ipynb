{
 "cells": [
  {
   "cell_type": "markdown",
   "metadata": {},
   "source": [
    "$P(A \\cup B) = P(A) + P(B) - P(A \\cap B)$\n",
    "<br>\n",
    "<br>\n",
    "$P(E)=\\large \\frac{\\text {number of times event E happened}}{\\text {number of times we repeated the experiment}}$"
   ]
  },
  {
   "cell_type": "code",
   "execution_count": 1,
   "metadata": {},
   "outputs": [],
   "source": [
    "p_a = 12/100\n",
    "p_b = 17 / 100\n",
    "p_a_and_b = 3/100\n",
    "p_a_or_b = p_a + p_b - p_a_and_b\n"
   ]
  },
  {
   "cell_type": "markdown",
   "metadata": {},
   "source": [
    "**Probability of any event ranges between**\n",
    "\n",
    "<br>\n",
    "\n",
    "$0 <= P(E) <= 1$\n",
    "\n",
    "<img src=\"img/pr1m2_range.png\">\n",
    "\n",
    "\n",
    "\n",
    "**Probability of an event that contains all the outcomes of the sample space is 1**\n",
    "\n",
    "\n",
    "$P(\\Omega)=1$\n",
    "\n",
    "e.g.\n",
    "\n",
    "> $A = \\{1,2,3,4,5,6\\}$ <br><br>\n",
    "$\\Omega = \\{1,2,3,4,5,6\\}$<br><br>\n",
    "$P(A) = \\frac{6}{6} = 1 = P(\\Omega)$\n",
    "\n",
    "---\n",
    "\n",
    "Now consider the two events below, which we're going to call \"B\" and \"non-B\":\n",
    "\n",
    "    1.Getting a 2 when rolling a fair six-sided die (event B)\n",
    "    2.Not getting a 2 when rolling a fair six-sided die (event non-B)\n",
    "\n",
    "\n",
    "$B = \\{2\\}$ <br><br>\n",
    "$non-B = \\{1,3,4,5,6\\}$ <br><br>\n",
    "\n",
    "* mutually exclusive\n",
    "\n",
    "$P(B \\cup non-B) = P(B) + P(non-B)$ = $\\frac{1}{6} + \\frac{5}{6} = 1$"
   ]
  },
  {
   "cell_type": "markdown",
   "metadata": {},
   "source": [
    "---\n",
    "\n",
    "for any random experiment either event \"E\" or \"non-E\" will happen, so the event \"E or non-E\" is certain and has a probability of 1\n",
    "\n",
    "$P(E \\cup non-E) = P(E) + P(non-E) = 1$ <br><br>\n",
    "$P(E) = 1 - P(non-E)$"
   ]
  },
  {
   "cell_type": "code",
   "execution_count": 2,
   "metadata": {},
   "outputs": [],
   "source": [
    "p_basic = 0.2\n",
    "p_premium = 0.15\n",
    "p_non_basic = 1 - p_basic\n",
    "p_non_premium = 1 - p_premium\n",
    "p_subscription = p_basic + p_premium\n",
    "p_non_subscription = 1 - p_subscription"
   ]
  },
  {
   "cell_type": "markdown",
   "metadata": {},
   "source": [
    "### Complex Probability \n",
    "\n",
    "Case : find the probability that it takes three flips or more for a coin to land heads up\n",
    "\n",
    "event A from 3 to infinite no. of flips , each number represents the number of flips it takes until we first get heads up\n",
    "\n",
    "$A = \\{3,4,5,....\\}$\n",
    "\n",
    "The opposite of event A (it takes less than three flips for the coin to land heads up)\n",
    "\n",
    "$non-A = \\{1,2\\}$\n",
    "\n",
    "\n",
    "In this random experiment, either A or non-A will happen :\n",
    "\n",
    "$P(A \\cup non-A) = P(A) + P(non-A) = 1$\n",
    "\n",
    "Interested in finding P(A)\n",
    "\n",
    "$P(A) = 1 - P(non-A)$\n",
    "\n",
    "Recall event A happens if it takes three flips or more for a coin to land heads up. If we flip a coin twice and it lands heads up at least once, it means event non-A happens.\n",
    "\n",
    "<img src=\"img/pr1m3_hh_tt.png\">\n",
    "\n",
    "This means finding $P(non-A)$ is equivalent to finding the probability that a coin flipped twice lands heads up at least once. \n",
    "\n",
    "If we flip a coin twice, these are all the outcomes we can get: \n",
    "\n",
    "$non-A = \\{HH, HT, TH, TT\\}$\n",
    "\n",
    "$P(non-A) = \\frac{\\text {number of succesful outcomes}}{\\text {total no. of possible outomes}} = \\frac{3}{4} = 0.75$\n",
    "\n",
    "$P(A) = 1 - P(non-A) = 0.25$"
   ]
  },
  {
   "cell_type": "markdown",
   "metadata": {},
   "source": [
    "---\n",
    "$B = \\{4,5,6...\\}$ <br><br>\n",
    "$non-B = \\{1,2,3\\}$\n",
    "\n",
    "\n",
    "\n",
    "Possible outcomes for 3 flips \n",
    "\n",
    "$\\{HHH,TTT,HHT,HTH,THH,HTT,THT,TTH\\}$\n"
   ]
  },
  {
   "cell_type": "code",
   "execution_count": 1,
   "metadata": {},
   "outputs": [],
   "source": [
    "p_non_b = 7/8\n",
    "p_b = 1 - p_non_b"
   ]
  },
  {
   "cell_type": "code",
   "execution_count": 1,
   "metadata": {},
   "outputs": [],
   "source": [
    "import random\n",
    "import math\n",
    "from matplotlib_venn import venn2\n",
    "import matplotlib.pyplot as plt"
   ]
  },
  {
   "cell_type": "markdown",
   "metadata": {},
   "source": [
    "$P(E  \\cup non-E) = P(E) + P(non-E) = 1$\n",
    "\n",
    "\n",
    "Case: Getting 2 when rolling a fair six-sided die\n",
    "\n",
    "$\\Omega = \\{1,2,3,4,5,6\\}$\n",
    "\n",
    "event B = $\\{2\\}$\n",
    "\n",
    "The event non-B is the opposite of B, and it corresponds to, event non-B = $\\{1,3,4,5,6\\}$ <br>\n",
    "In set theory, the opposite of a set is called its **complement**. <br>\n",
    "For instance, the opposite of set B , $B^C$\n",
    "\n",
    "\n",
    "$B = \\{2\\}$ <br>\n",
    "$B^C = non-B = \\{1,3,4,5,6\\}$\n",
    "\n",
    "Rewrite the formula :\n",
    "\n",
    "\n",
    "$P(B  \\cup B^C) = P(B) + P(B^C) = 1$\n"
   ]
  },
  {
   "cell_type": "markdown",
   "metadata": {},
   "source": [
    "---"
   ]
  },
  {
   "cell_type": "code",
   "execution_count": 6,
   "metadata": {},
   "outputs": [],
   "source": [
    "p_click = 0.5\n",
    "p_non_click = 1 - p_click"
   ]
  },
  {
   "cell_type": "markdown",
   "metadata": {},
   "source": [
    "Regardless of the number of times the ad is shown to a user, the probability that the user clicks on the ad is 0.5 <br>\n",
    "\n",
    "Probability that it takes two times or less for a user to click on the ad\n",
    "\n",
    "Ad is shown only twice, we have four possible outcomes\n",
    "\n",
    "$\\Omega = \\{(C,C),(NC,NC),(C,NC),(NC,C)\\}$\n",
    "\n",
    "$E = \\{(C,C),(C,NC),(NC,C)\\}$\n",
    "\n",
    "$P(E) = \\frac{3}{4}$\n",
    "\n",
    "\n",
    "Probability that it takes three times or more for a user to click on the ad\n",
    "\n",
    "$P(E) = 1 - 3/4 $\n"
   ]
  },
  {
   "cell_type": "code",
   "execution_count": 7,
   "metadata": {},
   "outputs": [],
   "source": [
    "p_two_or_less =  3/4 \n",
    "p_three_or_more = 1 - p_two_or_less"
   ]
  },
  {
   "cell_type": "markdown",
   "metadata": {},
   "source": [
    "---\n",
    "### Multiplication Rule\n",
    "\n"
   ]
  },
  {
   "cell_type": "markdown",
   "metadata": {},
   "source": [
    "Case: Probability of a coin landing heads up two times in a row\n",
    "\n",
    "$\\Omega = \\{HH,TT,HT,TH\\}$\n",
    "\n",
    "only one outcome (HH) is successful with respect to the event where the coin lands heads up two times in a row\n",
    "\n",
    "$P(HH) = \\frac{1}{4}$\n",
    "\n",
    "\n",
    "Finding $P(HH)$ means finding the probability that the coin lands heads up on the first flip (we'll call this event H1), and the coin lands heads up on the second flip (we'll call this event H2) . \n",
    "\n",
    "$P(H_1 \\text{and} H_2) = P(H_1 \\cap H_2)$"
   ]
  },
  {
   "cell_type": "markdown",
   "metadata": {},
   "source": [
    "### Multiplication Rule of Probability\n",
    "\n",
    "To find $P(H_1 \\cap H_2)$ :\n",
    "\n",
    "> $P(H_1 \\cap H_2) = P(H_1) * P(H_2)$\n",
    "\n",
    "\n",
    "Assuming the coin is fair, $P(H_1)$ = 0.5 and $P(H_2)$ = 0.5\n",
    "\n",
    "\n",
    "> $P(H_1 \\cap H_2) = 0.5 * 0.5$\n",
    "\n",
    "\n",
    "### Multiplication Rule of Probability\n",
    "\n",
    "In more general terms, the multiplication rule says that for two events E1 and E2, the probability that both event E1 and E2 happen can be found by multiplying the probability of E1 by the probability of E2:\n",
    "\n",
    "> $P(E_1 \\cap E_2) = P(E_1) * P(E_2)$"
   ]
  },
  {
   "cell_type": "code",
   "execution_count": null,
   "metadata": {},
   "outputs": [],
   "source": []
  }
 ],
 "metadata": {
  "kernelspec": {
   "display_name": "'Python Interactive'",
   "language": "python",
   "name": "1d4e2c9e-28ad-43eb-ad59-0dfcefc68a99"
  },
  "language_info": {
   "codemirror_mode": {
    "name": "ipython",
    "version": 3
   },
   "file_extension": ".py",
   "mimetype": "text/x-python",
   "name": "python",
   "nbconvert_exporter": "python",
   "pygments_lexer": "ipython3",
   "version": "3.6.4"
  },
  "latex_envs": {
   "LaTeX_envs_menu_present": true,
   "autoclose": false,
   "autocomplete": true,
   "bibliofile": "biblio.bib",
   "cite_by": "apalike",
   "current_citInitial": 1,
   "eqLabelWithNumbers": true,
   "eqNumInitial": 1,
   "hotkeys": {
    "equation": "Ctrl-E",
    "itemize": "Ctrl-I"
   },
   "labels_anchors": false,
   "latex_user_defs": false,
   "report_style_numbering": false,
   "user_envs_cfg": false
  }
 },
 "nbformat": 4,
 "nbformat_minor": 2
}
