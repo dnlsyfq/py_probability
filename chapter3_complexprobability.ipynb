{
 "cells": [
  {
   "cell_type": "markdown",
   "metadata": {},
   "source": [
    "$P(A \\cup B) = P(A) + P(B) - P(A \\cap B)$\n",
    "<br>\n",
    "<br>\n",
    "$P(E)=\\large \\frac{\\text {number of times event E happened}}{\\text {number of times we repeated the experiment}}$"
   ]
  },
  {
   "cell_type": "code",
   "execution_count": 1,
   "metadata": {},
   "outputs": [],
   "source": [
    "p_a = 12/100\n",
    "p_b = 17 / 100\n",
    "p_a_and_b = 3/100\n",
    "p_a_or_b = p_a + p_b - p_a_and_b\n"
   ]
  },
  {
   "cell_type": "markdown",
   "metadata": {},
   "source": [
    "**Probability of any event ranges between**\n",
    "\n",
    "<br>\n",
    "\n",
    "$0 <= P(E) <= 1$\n",
    "\n",
    "<img src=\"img/pr1m2_range.png\">\n",
    "\n",
    "\n",
    "\n",
    "**Probability of an event that contains all the outcomes of the sample space is 1**\n",
    "\n",
    "\n",
    "$P(\\Omega)=1$\n",
    "\n",
    "e.g.\n",
    "\n",
    "> $A = \\{1,2,3,4,5,6\\}$ <br><br>\n",
    "$\\Omega = \\{1,2,3,4,5,6\\}$<br><br>\n",
    "$P(A) = \\frac{6}{6} = 1 = P(\\Omega)$\n",
    "\n",
    "---\n",
    "\n",
    "Now consider the two events below, which we're going to call \"B\" and \"non-B\":\n",
    "\n",
    "    1.Getting a 2 when rolling a fair six-sided die (event B)\n",
    "    2.Not getting a 2 when rolling a fair six-sided die (event non-B)\n",
    "\n",
    "\n",
    "$B = \\{2\\}$ <br><br>\n",
    "$non-B = \\{1,3,4,5,6\\}$ <br><br>\n",
    "\n",
    "* mutually exclusive\n",
    "\n",
    "$P(B \\cup non-B) = P(B) + P(non-B)$ = $\\frac{1}{6} + \\frac{5}{6} = 1$"
   ]
  },
  {
   "cell_type": "markdown",
   "metadata": {},
   "source": [
    "---\n",
    "\n",
    "for any random experiment either event \"E\" or \"non-E\" will happen, so the event \"E or non-E\" is certain and has a probability of 1\n",
    "\n",
    "$P(E \\cup non-E) = P(E) + P(non-E) = 1$ <br><br>\n",
    "$P(E) = 1 - P(non-E)$"
   ]
  },
  {
   "cell_type": "code",
   "execution_count": 2,
   "metadata": {},
   "outputs": [],
   "source": [
    "p_basic = 0.2\n",
    "p_premium = 0.15\n",
    "p_non_basic = 1 - p_basic\n",
    "p_non_premium = 1 - p_premium\n",
    "p_subscription = p_basic + p_premium\n",
    "p_non_subscription = 1 - p_subscription"
   ]
  },
  {
   "cell_type": "markdown",
   "metadata": {},
   "source": [
    "### Complex Probability \n",
    "\n",
    "Case : find the probability that it takes three flips or more for a coin to land heads up\n",
    "\n",
    "event A from 3 to infinite no. of flips , each number represents the number of flips it takes until we first get heads up\n",
    "\n",
    "$A = \\{3,4,5,....\\}$\n",
    "\n",
    "The opposite of event A (it takes less than three flips for the coin to land heads up)\n",
    "\n",
    "$non-A = \\{1,2\\}$\n",
    "\n",
    "\n",
    "In this random experiment, either A or non-A will happen :\n",
    "\n",
    "$P(A \\cup non-A) = P(A) + P(non-A) = 1$\n",
    "\n",
    "Interested in finding P(A)\n",
    "\n",
    "$P(A) = 1 - P(non-A)$\n",
    "\n",
    "Recall event A happens if it takes three flips or more for a coin to land heads up. If we flip a coin twice and it lands heads up at least once, it means event non-A happens.\n",
    "\n",
    "<img src=\"img/pr1m3_hh_tt.png\">\n",
    "\n",
    "This means finding $P(non-A)$ is equivalent to finding the probability that a coin flipped twice lands heads up at least once. \n",
    "\n",
    "If we flip a coin twice, these are all the outcomes we can get: \n",
    "\n",
    "$non-A = \\{HH, HT, TH, TT\\}$\n",
    "\n",
    "$P(non-A) = \\frac{\\text {number of succesful outcomes}}{\\text {total no. of possible outomes}} = \\frac{3}{4} = 0.75$\n",
    "\n",
    "$P(A) = 1 - P(non-A) = 0.25$"
   ]
  },
  {
   "cell_type": "markdown",
   "metadata": {},
   "source": [
    "---\n",
    "$B = \\{4,5,6...\\}$ <br><br>\n",
    "$non-B = \\{1,2,3\\}$\n",
    "\n",
    "\n",
    "\n",
    "Possible outcomes for 3 flips \n",
    "\n",
    "$\\{HHH,TTT,HHT,HTH,THH,HTT,THT,TTH\\}$\n"
   ]
  },
  {
   "cell_type": "code",
   "execution_count": 1,
   "metadata": {},
   "outputs": [],
   "source": [
    "p_non_b = 7/8\n",
    "p_b = 1 - p_non_b"
   ]
  },
  {
   "cell_type": "code",
   "execution_count": 1,
   "metadata": {},
   "outputs": [],
   "source": [
    "import random\n",
    "import math\n",
    "from matplotlib_venn import venn2\n",
    "import matplotlib.pyplot as plt"
   ]
  },
  {
   "cell_type": "markdown",
   "metadata": {},
   "source": [
    "$P(E  \\cup non-E) = P(E) + P(non-E) = 1$\n",
    "\n",
    "\n",
    "Case: Getting 2 when rolling a fair six-sided die\n",
    "\n",
    "$\\Omega = \\{1,2,3,4,5,6\\}$\n",
    "\n",
    "event B = $\\{2\\}$\n",
    "\n",
    "The event non-B is the opposite of B, and it corresponds to, event non-B = $\\{1,3,4,5,6\\}$ <br>\n",
    "In set theory, the opposite of a set is called its **complement**. <br>\n",
    "For instance, the opposite of set B , $B^C$\n",
    "\n",
    "\n",
    "$B = \\{2\\}$ <br>\n",
    "$B^C = non-B = \\{1,3,4,5,6\\}$\n",
    "\n",
    "Rewrite the formula :\n",
    "\n",
    "\n",
    "$P(B  \\cup B^C) = P(B) + P(B^C) = 1$\n"
   ]
  },
  {
   "cell_type": "markdown",
   "metadata": {},
   "source": [
    "---"
   ]
  },
  {
   "cell_type": "code",
   "execution_count": 6,
   "metadata": {},
   "outputs": [],
   "source": [
    "p_click = 0.5\n",
    "p_non_click = 1 - p_click"
   ]
  },
  {
   "cell_type": "markdown",
   "metadata": {},
   "source": [
    "Regardless of the number of times the ad is shown to a user, the probability that the user clicks on the ad is 0.5 <br>\n",
    "\n",
    "Probability that it takes two times or less for a user to click on the ad\n",
    "\n",
    "Ad is shown only twice, we have four possible outcomes\n",
    "\n",
    "$\\Omega = \\{(C,C),(NC,NC),(C,NC),(NC,C)\\}$\n",
    "\n",
    "$E = \\{(C,C),(C,NC),(NC,C)\\}$\n",
    "\n",
    "$P(E) = \\frac{3}{4}$\n",
    "\n",
    "\n",
    "Probability that it takes three times or more for a user to click on the ad\n",
    "\n",
    "$P(E) = 1 - 3/4 $\n"
   ]
  },
  {
   "cell_type": "code",
   "execution_count": 7,
   "metadata": {},
   "outputs": [],
   "source": [
    "p_two_or_less =  3/4 \n",
    "p_three_or_more = 1 - p_two_or_less"
   ]
  },
  {
   "cell_type": "markdown",
   "metadata": {},
   "source": [
    "---\n",
    "### Multiplication Rule\n",
    "\n"
   ]
  },
  {
   "cell_type": "markdown",
   "metadata": {},
   "source": [
    "Case: Probability of a coin landing heads up two times in a row\n",
    "\n",
    "$\\Omega = \\{HH,TT,HT,TH\\}$\n",
    "\n",
    "only one outcome (HH) is successful with respect to the event where the coin lands heads up two times in a row\n",
    "\n",
    "$P(HH) = \\frac{1}{4}$\n",
    "\n",
    "\n",
    "Finding $P(HH)$ means finding the probability that the coin lands heads up on the first flip (we'll call this event H1), and the coin lands heads up on the second flip (we'll call this event H2) . \n",
    "\n",
    "$P(H_1 \\text{and} H_2) = P(H_1 \\cap H_2)$"
   ]
  },
  {
   "cell_type": "markdown",
   "metadata": {},
   "source": [
    "### Multiplication Rule of Probability\n",
    "\n",
    "To find $P(H_1 \\cap H_2)$ :\n",
    "\n",
    "> $P(H_1 \\cap H_2) = P(H_1) * P(H_2)$\n",
    "\n",
    "\n",
    "Assuming the coin is fair, $P(H_1)$ = 0.5 and $P(H_2)$ = 0.5\n",
    "\n",
    "\n",
    "> $P(H_1 \\cap H_2) = 0.5 * 0.5$\n",
    "\n",
    "\n",
    "### Multiplication Rule of Probability\n",
    "\n",
    "In more general terms, the multiplication rule says that for two events E1 and E2, the probability that both event E1 and E2 happen can be found by multiplying the probability of E1 by the probability of E2:\n",
    "\n",
    "> $P(E_1 \\cap E_2) = P(E_1) * P(E_2)$"
   ]
  },
  {
   "cell_type": "code",
   "execution_count": 10,
   "metadata": {},
   "outputs": [],
   "source": [
    "omega = [1,2,3,4,5,6]\n",
    "p_6_6 = 1/6 * 1/6\n",
    "p_3_2 = 1/6 * 1/6\n",
    "p_even_even = 3/6 * 3/6\n",
    "p_1_even = 1/6 * 3/6\n"
   ]
  },
  {
   "cell_type": "markdown",
   "metadata": {},
   "source": [
    "---\n",
    "The multiplication rule, however, is a bit more nuanced, and it doesn't work for all kinds of events\n",
    "\n",
    "\n",
    "Independent events \n",
    "\n",
    "\n",
    "event H1: the coin lands heads up on the first flip <br>\n",
    "event H2: the coin lands heads up on the second flip <br>\n",
    "\n",
    "Taken individually, P(H1) = 0.5 and P(H2) = 0.5. If event H1 happens (the coin lands heads up), P(H2) keeps the same value (0.5) — the fact the we get heads up on the first flip doesn't influence in any way the probability of getting heads up on the second flip.\n",
    "\n",
    "\n",
    "Events that don't influence each other's probability are called independent events. If H1 happens, P(H2) stays the same, so H1 and H2 are independent. The multiplication rule we learned only works for independent events."
   ]
  },
  {
   "cell_type": "markdown",
   "metadata": {},
   "source": [
    "case : find the probability that a coin lands heads up four times in a row\n",
    "\n",
    "$P(H_1 \\cap H_2 \\cap H_3 \\cap H_4) = P(H_1) * P(H_2) * P(H_3) * P(H_4)$<br><br>\n",
    "$P(H_1 \\cap H_2 \\cap H_3 \\cap H_4) = 0.5^4 = 0.0625$"
   ]
  },
  {
   "cell_type": "code",
   "execution_count": 9,
   "metadata": {},
   "outputs": [],
   "source": [
    "p_18h = 0.5**18\n",
    "p_666 = (1/6)**3\n",
    "p_not_6 = (5/6)**4"
   ]
  },
  {
   "cell_type": "markdown",
   "metadata": {},
   "source": [
    "### Combining Formulas \n",
    "\n",
    "Case : Getting A to refer to the event \"getting at least one 6 in four throws of a single six-sided die\"\n",
    "\n",
    "$P(A) = 1 - P(A^C)$\n",
    "\n",
    "event A = Getting at least one 6 in four throws \n",
    "\n",
    "event not-A = $A^C$ = Getting {1,2,3,4,5} four times \n",
    "\n",
    "$P(A^C) = (\\frac{5}{6})^4$ <br>\n",
    "\n",
    "$P(A) = 1 -P(A^C)$\n",
    "\n"
   ]
  },
  {
   "cell_type": "code",
   "execution_count": 22,
   "metadata": {},
   "outputs": [],
   "source": [
    "p_not_double_6 = (35/36)**24"
   ]
  },
  {
   "cell_type": "code",
   "execution_count": 23,
   "metadata": {},
   "outputs": [],
   "source": [
    "#There are 36 possible outcomes for throwing two dice simultaneously.\n",
    "#There are 35 possible outcomes which don't involve a double-six.\n",
    "\n",
    "p_one_double_6 = 1 - p_not_double_6"
   ]
  },
  {
   "cell_type": "code",
   "execution_count": 24,
   "metadata": {},
   "outputs": [
    {
     "data": {
      "text/plain": [
       "0.4914038761309034"
      ]
     },
     "execution_count": 24,
     "metadata": {},
     "output_type": "execute_result"
    }
   ],
   "source": [
    "p_one_double_6"
   ]
  },
  {
   "cell_type": "markdown",
   "metadata": {},
   "source": [
    "---\n",
    "### Sampling With(out) Replacement\n",
    "\n",
    "Case: Getting four aces in a row from 52 card deck .\n",
    "\n",
    "Deck has four aces and total of 52 card \n",
    "\n",
    "Probability of drawing ace \n",
    "\n",
    "$P(Ace) = 4/ 52$\n",
    "\n",
    "$P(AAAA) = (4/52)^4$\n",
    "\n",
    "\n",
    "However, whether multiplying P(Ace) by itself four times is correct or not depends on an important detail: whether we put the cards we draw back in the deck. Let's first consider the case where we draw cards from the deck, but we don't put them back.\n",
    "\n",
    "\n",
    "Let's say we draw a card, which is an ace of diamonds, and don't put the card back in the deck. Because we don't put the ace of diamonds back, we now have a deck of 51 cards, where only three cards are aces.\n",
    "\n",
    "$P(Ace)=3/51$\n",
    "\n",
    "\n",
    "\n",
    "To find the probability of getting four aces in a row, we need to take into account at each step that the card is not put back in the deck:\n",
    "\n",
    "> $P(AAAA) = 4/52 * 3/51 * 2/50 * 1/49$\n",
    "\n",
    "If we do put the cards back in the deck after drawing\n",
    "\n",
    "> $P(AAAA) = (4/52)^4$\n",
    "\n",
    "\n",
    ">When we replace the cards after drawing, we say that we're sampling with replacement.\n",
    "\n",
    ">When we don't put the cards back, we're sampling without replacement"
   ]
  },
  {
   "cell_type": "code",
   "execution_count": 37,
   "metadata": {},
   "outputs": [],
   "source": [
    "p_kk = 4/52 * 3/51\n",
    "p_7q = 1/52 * 1 /51\n",
    "p_jqkj = 4/52 * 1/51 * 4/50 * 3/49"
   ]
  },
  {
   "cell_type": "code",
   "execution_count": 36,
   "metadata": {},
   "outputs": [
    {
     "data": {
      "text/plain": [
       "0.004524886877828055"
      ]
     },
     "execution_count": 36,
     "metadata": {},
     "output_type": "execute_result"
    }
   ],
   "source": [
    "p_kk"
   ]
  },
  {
   "cell_type": "code",
   "execution_count": null,
   "metadata": {},
   "outputs": [],
   "source": []
  }
 ],
 "metadata": {
  "kernelspec": {
   "display_name": "Python 3.7.5 64-bit",
   "language": "python",
   "name": "python37564bit755892d5a38644fe88af47f4cac36ffe"
  },
  "language_info": {
   "codemirror_mode": {
    "name": "ipython",
    "version": 3
   },
   "file_extension": ".py",
   "mimetype": "text/x-python",
   "name": "python",
   "nbconvert_exporter": "python",
   "pygments_lexer": "ipython3",
   "version": "3.7.5"
  },
  "latex_envs": {
   "LaTeX_envs_menu_present": true,
   "autoclose": false,
   "autocomplete": true,
   "bibliofile": "biblio.bib",
   "cite_by": "apalike",
   "current_citInitial": 1,
   "eqLabelWithNumbers": true,
   "eqNumInitial": 1,
   "hotkeys": {
    "equation": "Ctrl-E",
    "itemize": "Ctrl-I"
   },
   "labels_anchors": false,
   "latex_user_defs": false,
   "report_style_numbering": false,
   "user_envs_cfg": false
  }
 },
 "nbformat": 4,
 "nbformat_minor": 2
}
