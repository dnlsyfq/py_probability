{
 "cells": [
  {
   "cell_type": "code",
   "execution_count": 36,
   "metadata": {},
   "outputs": [],
   "source": [
    "import numpy as np\n",
    "import random\n",
    "import matplotlib.pyplot as plt"
   ]
  },
  {
   "cell_type": "markdown",
   "metadata": {},
   "source": [
    "## Empirical Probability\n",
    "---\n",
    "### Estimating Probability\n",
    "When we calculate the probability of an event by performing an experiment one or more times, we calculate the experimental — or empirical probability — of the event\n",
    "\n",
    "\n",
    "probability value estimated by performing an experiment is called empirical (or experimental) probability\n",
    "\n",
    "\n",
    "$\\large P(Events) = \\large \\frac{\\text{No. of Events happened}}{\\text{No. of Repeated experiment}}$"
   ]
  },
  {
   "cell_type": "code",
   "execution_count": 34,
   "metadata": {},
   "outputs": [],
   "source": [
    "coinToss = [random.sample(['head','tail'],1)[0] for i in range(100) ]"
   ]
  },
  {
   "cell_type": "code",
   "execution_count": 40,
   "metadata": {},
   "outputs": [],
   "source": [
    "head = coinToss.count('head')\n",
    "tail = coinToss.count('tail')\n"
   ]
  },
  {
   "cell_type": "code",
   "execution_count": 41,
   "metadata": {},
   "outputs": [
    {
     "data": {
      "text/plain": [
       "<BarContainer object of 2 artists>"
      ]
     },
     "execution_count": 41,
     "metadata": {},
     "output_type": "execute_result"
    },
    {
     "data": {
      "image/png": "[encoded data removed]",
      "text/plain": [
       "<Figure size 432x288 with 1 Axes>"
      ]
     },
     "metadata": {
      "needs_background": "light"
     },
     "output_type": "display_data"
    }
   ],
   "source": [
    "plt.bar(['head','tail'],[head,tail])"
   ]
  },
  {
   "cell_type": "markdown",
   "metadata": {},
   "source": [
    "Probability(coins land head) = P(H) = $\\large \\frac{heads}{total}$\n"
   ]
  },
  {
   "cell_type": "code",
   "execution_count": 42,
   "metadata": {},
   "outputs": [
    {
     "data": {
      "text/plain": [
       "0.43"
      ]
     },
     "execution_count": 42,
     "metadata": {},
     "output_type": "execute_result"
    }
   ],
   "source": [
    "# probability of a coin landing heads up\n",
    "head / len(coinToss)"
   ]
  },
  {
   "cell_type": "code",
   "execution_count": 50,
   "metadata": {},
   "outputs": [
    {
     "data": {
      "text/plain": [
       "'P(Heads) = 43.0%'"
      ]
     },
     "execution_count": 50,
     "metadata": {},
     "output_type": "execute_result"
    }
   ],
   "source": [
    "# convert proportions to percentages\n",
    "\"P(Heads) = {}%\".format((head / len(coinToss))*100)"
   ]
  },
  {
   "cell_type": "code",
   "execution_count": 43,
   "metadata": {},
   "outputs": [],
   "source": [
    "\n",
    "# tossed a coin 100 times and got heads 56 times. \n",
    "# Calculate the probability of getting tails \n",
    "p_tail = (100-56)/100\n"
   ]
  },
  {
   "cell_type": "code",
   "execution_count": 44,
   "metadata": {},
   "outputs": [],
   "source": [
    "# rolled a regular six-sided die 200 times \n",
    "# We got a six 28 times. \n",
    "# Calculate the probability of getting a 6 when rolling a six-sided die.\n",
    "p_six = 28/200"
   ]
  },
  {
   "cell_type": "code",
   "execution_count": 46,
   "metadata": {},
   "outputs": [],
   "source": [
    "# We got an odd number  102 times. \n",
    "# Calculate the probability of getting an odd number when rolling a six-sided die.\n",
    "p_odd = 102/200"
   ]
  },
  {
   "cell_type": "code",
   "execution_count": 51,
   "metadata": {},
   "outputs": [],
   "source": [
    "p_heads_1 = (300-162)/300\n",
    "percentage_1 = p_heads_1 * 100\n",
    "\n",
    "p_heads_2 = (5000-2450)/5000\n",
    "percentage_2 = p_heads_2 * 100"
   ]
  },
  {
   "cell_type": "markdown",
   "metadata": {},
   "source": [
    "### True Value of P(H) or P(T)"
   ]
  },
  {
   "cell_type": "markdown",
   "metadata": {},
   "source": [
    "Different number of tosses give different probability values, then what's the true value of P(H)?\n",
    "\n",
    "Say we assume we already know that the true probability of P(H) is 50% , so P(T) = 50% \n",
    "\n",
    "Using these assumptions, we're going to use Python to simulate a coin toss 10,000 times and watch how P(H) evolves as the number of tosses increases."
   ]
  },
  {
   "cell_type": "code",
   "execution_count": 53,
   "metadata": {},
   "outputs": [
    {
     "data": {
      "text/plain": [
       "'HEAD'"
      ]
     },
     "execution_count": 53,
     "metadata": {},
     "output_type": "execute_result"
    }
   ],
   "source": [
    "from numpy.random import seed, randint\n",
    "\n",
    "seed(1) # used the seed() function to set a random seed for reproducibility\n",
    "\n",
    "def coin_toss():\n",
    "    if randint(0, 2) == 1:\n",
    "        return 'HEAD'\n",
    "    else:\n",
    "        return 'TAIL'\n",
    "\n",
    "coin_toss()"
   ]
  },
  {
   "cell_type": "code",
   "execution_count": 54,
   "metadata": {},
   "outputs": [],
   "source": [
    "# exercise\n",
    "# INITIAL CODE\n",
    "from numpy.random import seed, randint\n",
    "\n",
    "seed(1)\n",
    "\n",
    "def coin_toss():\n",
    "    if randint(0,2) == 1:\n",
    "        return 'HEAD'\n",
    "    else:\n",
    "        return 'TAIL'\n",
    "    \n",
    "probabilities = []\n",
    "heads = 0\n",
    "\n",
    "for n in range(1, 10001):\n",
    "    outcome = coin_toss()\n",
    "    if outcome == 'HEAD':\n",
    "        heads += 1\n",
    "    current_probability = heads/n\n",
    "    probabilities.append(current_probability)\n",
    "    "
   ]
  },
  {
   "cell_type": "code",
   "execution_count": 58,
   "metadata": {},
   "outputs": [
    {
     "data": {
      "text/plain": [
       "[1.0,\n",
       " 1.0,\n",
       " 0.6666666666666666,\n",
       " 0.5,\n",
       " 0.6,\n",
       " 0.6666666666666666,\n",
       " 0.7142857142857143,\n",
       " 0.75,\n",
       " 0.7777777777777778,\n",
       " 0.7]"
      ]
     },
     "execution_count": 58,
     "metadata": {},
     "output_type": "execute_result"
    }
   ],
   "source": [
    "probabilities[:10]"
   ]
  },
  {
   "cell_type": "code",
   "execution_count": 59,
   "metadata": {},
   "outputs": [
    {
     "data": {
      "text/plain": [
       "[0.4993494144730257,\n",
       " 0.49939951961569257,\n",
       " 0.4993495446812769,\n",
       " 0.4993996397838703,\n",
       " 0.4993496748374187,\n",
       " 0.4992997198879552,\n",
       " 0.49934980494148246,\n",
       " 0.4993998799759952,\n",
       " 0.49934993499349933,\n",
       " 0.4994]"
      ]
     },
     "execution_count": 59,
     "metadata": {},
     "output_type": "execute_result"
    }
   ],
   "source": [
    "probabilities[-10:]"
   ]
  },
  {
   "cell_type": "code",
   "execution_count": 68,
   "metadata": {},
   "outputs": [
    {
     "data": {
      "text/plain": [
       "<matplotlib.lines.Line2D at 0x118272250>"
      ]
     },
     "execution_count": 68,
     "metadata": {},
     "output_type": "execute_result"
    },
    {
     "data": {
      "image/png": "[encoded data removed]",
      "text/plain": [
       "<Figure size 432x288 with 1 Axes>"
      ]
     },
     "metadata": {
      "needs_background": "light"
     },
     "output_type": "display_data"
    }
   ],
   "source": [
    "plt.plot(probabilities)\n",
    "plt.axhline(np.mean(probabilities),c='green')"
   ]
  },
  {
   "cell_type": "markdown",
   "metadata": {},
   "source": [
    " for the first 1,000 tosses or so, the value of P(H) varies a lot, with a maximum of 1.0 and a minimum of approximately 0.45. However, as the number of tosses increases, the value of P(H) tends to stabilize."
   ]
  },
  {
   "cell_type": "markdown",
   "metadata": {},
   "source": [
    "P(H) stabilizes around the true value of P(H), which we assumed to be P(H) = 50% = 0.50\n",
    "\n",
    "This suggests that the greater the number of coin tosses, the closer P(H) gets to the true value. \n",
    "\n",
    "\n",
    "The more we repeat the toss, the closer we should be to the true probability."
   ]
  },
  {
   "cell_type": "markdown",
   "metadata": {},
   "source": [
    "### Estimating probabilities : Practical example"
   ]
  },
  {
   "cell_type": "markdown",
   "metadata": {},
   "source": [
    "An insurance company conducted a study with 200 individuals,\n",
    "\n",
    "* 87 individuals opted for at least a life insurance policy.\n",
    "* 40 individuals opted for at least life and car insurance policies.\n",
    "* 63 individuals opted for at least a house insurance policy.\n",
    "* 160 individuals opted for at least one type of insurance policy.\n",
    "\n"
   ]
  },
  {
   "cell_type": "code",
   "execution_count": 70,
   "metadata": {},
   "outputs": [],
   "source": [
    "p_l = 87/200\n",
    "p_l_and_c = 40/200\n",
    "p_h = 63/200\n",
    "p_no = (200-160)/200"
   ]
  },
  {
   "cell_type": "markdown",
   "metadata": {},
   "source": [
    "### Another method estimating probabilities ( theoretical probabilities)"
   ]
  },
  {
   "cell_type": "markdown",
   "metadata": {},
   "source": [
    "properly calculating empirical probabilities requires us to perform a random experiment many times, which may not always be feasible in practice. An easier way to estimate probabilities is to start with the assumption that the outcomes of a random experiment have **equal chances of occurring.**\n",
    "\n",
    "$\\large P(E)= \\large \\frac{1}{totalpossible outcomes}$"
   ]
  },
  {
   "cell_type": "code",
   "execution_count": 73,
   "metadata": {},
   "outputs": [
    {
     "data": {
      "text/plain": [
       "0.5"
      ]
     },
     "execution_count": 73,
     "metadata": {},
     "output_type": "execute_result"
    }
   ],
   "source": [
    "# total number of possible outcomes for a coin toss is two: heads or tails.\n",
    "p_h = 1 / 2\n",
    "p_h"
   ]
  },
  {
   "cell_type": "code",
   "execution_count": 75,
   "metadata": {},
   "outputs": [
    {
     "data": {
      "text/plain": [
       "0.16666666666666666"
      ]
     },
     "execution_count": 75,
     "metadata": {},
     "output_type": "execute_result"
    }
   ],
   "source": [
    "# rolling of a die, where there are six possible outcomes: 1, 2, 3, 4, 5 or 6. Assuming each outcome has the same chance of occurring\n",
    "\n",
    "p_d = 1 / 6\n",
    "p_d"
   ]
  },
  {
   "cell_type": "markdown",
   "metadata": {},
   "source": [
    "When we calculate the probability of an event under the assumption that the outcomes have equal chances of occurring, we say that we're calculating the theoretical probability of an event"
   ]
  },
  {
   "cell_type": "code",
   "execution_count": null,
   "metadata": {},
   "outputs": [],
   "source": [
    "p_5 = 1/6\n",
    "p_ht = 1/4\n",
    "p_tt = 1/4"
   ]
  },
  {
   "cell_type": "markdown",
   "metadata": {},
   "source": [
    "### Events vs Outcomes\n",
    "> An outcome is any result that a random experiment may terminate in. For instance, all the possible outcomes of rolling a six-sided die are 1, 2, 3, 4, 5, and 6. \n",
    " \n",
    " \n",
    "> An event, however, has a richer meaning and can include more than one outcome (or even zero outcomes\n",
    "\n",
    "\n",
    "* event that we'll get an odd number when we roll a six-sided die : \n",
    "\n",
    "this event includes the outcomes 1, 3, and 5\n",
    "\n",
    "* event that we'll get a number less than 5 but greater than 1 when we roll a six-sided die:\n",
    "\n",
    "this event includes the outcomes 2, 3, and 4.\n",
    "\n",
    "\n",
    "* event that we'll get a number greater than 20 when we roll a six-sided die \n",
    "\n",
    "this event doesn't include any of the possible outcomes corresponding to rolling a six-sided die\n",
    "\n",
    "\n",
    "> assign probabilities to events, not outcomes, even if the event includes only one outcome.\n",
    "\n",
    "\n",
    "can't use this theoretical probability to compute theoretical probabilities for events that include more than one outcome.\n",
    "\n",
    "with : \n",
    "\n",
    "\n",
    "$\\large P(E)= \\large \\frac{1}{totalpossible outcomes}$\n",
    "\n",
    "$P(1 <= x <= 6)$ = $\\frac{1}{6}$= 0.16\n",
    "\n",
    "\n",
    "so updated the theoretical probability formula :\n",
    "\n",
    "<br>\n",
    "<center>$\\large P(E)= \\large \\frac{1}{totalpossible outcomes}$</center> <br> <center>to</center><br> <center>$\\large P(E)= \\large \\frac{no. of successful outcomes}{total no. possible outcomes}$</center>\n",
    "\n",
    "* number of successful outcomes :  the number of outcomes included in the event E\n",
    "\n",
    "\n",
    "* total number of possible outcomes : the number of possible outcomes that the random experiment associated with the event E could terminate in.\n",
    "\n",
    "case 1:\n",
    "\n",
    "event that we'll get an odd number when we roll a six-sided die includes three successful outcomes (1, 3, and 5), and the random experiment of rolling the die includes six possible outcomes (1, 2, 3, 4, 5, and 6)\n",
    "\n",
    "\n",
    "P(odd) = [1,3,5] / [1,2,3,4,5,6] = 3 / 6 = 0.5\n",
    "\n",
    "\n",
    "\n",
    "\n",
    "case 2 :\n",
    "\n",
    "\n",
    "Take the event that we'll get any number between 1 and 6 (both included) when rolling a six-sided die. The outcomes are 1, 2, 3, 4, 5, and 6, so there are 100% chances we'll get some number between 1 and 6.\n",
    "\n",
    "\n",
    "p(number between 1 and 6) = [1,2,3,4,5,6]/ [1,2,3,4,5,6] = 1 = 100%\n",
    "\n",
    "\n",
    "\n"
   ]
  },
  {
   "cell_type": "code",
   "execution_count": 1,
   "metadata": {},
   "outputs": [
    {
     "data": {
      "text/plain": [
       "0.5"
      ]
     },
     "execution_count": 1,
     "metadata": {},
     "output_type": "execute_result"
    }
   ],
   "source": [
    "p_even = len([2,4,5])/len([1,2,3,4,5,6])\n",
    "p_odd_no_3 = len([1,5])/len([1,2,3,4,5,6])\n",
    "p_odd_greater_5 = 0/len([1,2,3,4,5,6])"
   ]
  },
  {
   "cell_type": "code",
   "execution_count": null,
   "metadata": {},
   "outputs": [],
   "source": [
    "p_blue = 10 / 100\n",
    "p_red = 90/100"
   ]
  }
 ],
 "metadata": {
  "kernelspec": {
   "display_name": "Python 3",
   "language": "python",
   "name": "python3"
  },
  "language_info": {
   "codemirror_mode": {
    "name": "ipython",
    "version": 3
   },
   "file_extension": ".py",
   "mimetype": "text/x-python",
   "name": "python",
   "nbconvert_exporter": "python",
   "pygments_lexer": "ipython3",
   "version": "3.6.4"
  },
  "latex_envs": {
   "LaTeX_envs_menu_present": true,
   "autoclose": false,
   "autocomplete": true,
   "bibliofile": "biblio.bib",
   "cite_by": "apalike",
   "current_citInitial": 1,
   "eqLabelWithNumbers": true,
   "eqNumInitial": 1,
   "hotkeys": {
    "equation": "Ctrl-E",
    "itemize": "Ctrl-I"
   },
   "labels_anchors": false,
   "latex_user_defs": false,
   "report_style_numbering": false,
   "user_envs_cfg": false
  }
 },
 "nbformat": 4,
 "nbformat_minor": 2
}
