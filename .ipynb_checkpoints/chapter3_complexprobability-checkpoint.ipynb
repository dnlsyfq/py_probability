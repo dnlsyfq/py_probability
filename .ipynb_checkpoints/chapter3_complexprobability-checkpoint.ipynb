{
 "cells": [
  {
   "cell_type": "markdown",
   "metadata": {},
   "source": [
    "$P(A \\cup B) = P(A) + P(B) - P(A \\cap B)$\n",
    "<br>\n",
    "<br>\n",
    "$P(E)=\\large \\frac{\\text {number of times event E happened}}{\\text {number of times we repeated the experiment}}$"
   ]
  },
  {
   "cell_type": "code",
   "execution_count": 1,
   "metadata": {},
   "outputs": [],
   "source": [
    "p_a = 12/100\n",
    "p_b = 17 / 100\n",
    "p_a_and_b = 3/100\n",
    "p_a_or_b = p_a + p_b - p_a_and_b\n"
   ]
  },
  {
   "cell_type": "markdown",
   "metadata": {},
   "source": [
    "**Probability of any event ranges between**\n",
    "\n",
    "<br>\n",
    "\n",
    "$0 <= P(E) <= 1$\n",
    "\n",
    "<img src=\"img/pr1m2_range.png\">\n",
    "\n",
    "\n",
    "\n",
    "**Probability of an event that contains all the outcomes of the sample space is 1**\n",
    "\n",
    "\n",
    "$P(\\Omega)=1$\n",
    "\n",
    "e.g.\n",
    "\n",
    "> $A = {1,2,3,4,5,6}$ <br><br>\n",
    "$\\Omega = {1,2,3,4,5,6}$<br><br>\n",
    "$P(A) = \\frac{6}{6} = 1 = P(\\Omega)$\n",
    "\n"
   ]
  },
  {
   "cell_type": "code",
   "execution_count": null,
   "metadata": {},
   "outputs": [],
   "source": []
  }
 ],
 "metadata": {
  "kernelspec": {
   "display_name": "'Python Interactive'",
   "language": "python",
   "name": "1d4e2c9e-28ad-43eb-ad59-0dfcefc68a99"
  },
  "language_info": {
   "codemirror_mode": {
    "name": "ipython",
    "version": 3
   },
   "file_extension": ".py",
   "mimetype": "text/x-python",
   "name": "python",
   "nbconvert_exporter": "python",
   "pygments_lexer": "ipython3",
   "version": "3.6.4"
  },
  "latex_envs": {
   "LaTeX_envs_menu_present": true,
   "autoclose": false,
   "autocomplete": true,
   "bibliofile": "biblio.bib",
   "cite_by": "apalike",
   "current_citInitial": 1,
   "eqLabelWithNumbers": true,
   "eqNumInitial": 1,
   "hotkeys": {
    "equation": "Ctrl-E",
    "itemize": "Ctrl-I"
   },
   "labels_anchors": false,
   "latex_user_defs": false,
   "report_style_numbering": false,
   "user_envs_cfg": false
  }
 },
 "nbformat": 4,
 "nbformat_minor": 2
}
