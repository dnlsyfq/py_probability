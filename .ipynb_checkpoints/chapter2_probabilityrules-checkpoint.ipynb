{
 "cells": [
  {
   "cell_type": "markdown",
   "metadata": {},
   "source": [
    "### Probability Rules\n",
    "\n",
    "* Random experiment is any process for which cant predict outcomes with certainty\n",
    "\n",
    "* Outcome is possible result of a random experiment, while an event can include more than one outcome \n",
    "\n",
    "### Probability Theory\n",
    "\n",
    "* Outcomes of a random experiment are usually represented as a set\n",
    "\n",
    "e.g. outcomes of a die roll as a set \n",
    "\n",
    "<br>\n",
    "\n",
    "<center>$\\text Outcomes = \\{1,2,3,4,5,6\\}$</center>\n",
    "\n",
    "\n",
    "\n",
    "* Set is a collection of distinct objects ( outcome must occur only once in a set)\n",
    "\n",
    "\n",
    "> in probability theory, **set of all possible outcomes is called a sample space** , $\\Omega$\n",
    "\n",
    "\n",
    "<center>$\\Omega$ =$ \\{1,2,3,4,5,6\\}$</center>"
   ]
  },
  {
   "cell_type": "code",
   "execution_count": 1,
   "metadata": {},
   "outputs": [],
   "source": [
    "import random\n",
    "import math\n",
    "from matplotlib_venn import venn2\n",
    "import matplotlib.pyplot as plt"
   ]
  },
  {
   "cell_type": "code",
   "execution_count": 2,
   "metadata": {},
   "outputs": [],
   "source": [
    "coin_toss_omega = ['HT','HH','TT','TH']\n"
   ]
  },
  {
   "cell_type": "markdown",
   "metadata": {},
   "source": [
    "Case $E$ , getting an even no. from sample space , \n",
    "\n",
    "$\\Omega = \\{1,2,3,4,5,6\\}$\n",
    "\n",
    "$E$ = $\\{2,4,6\\}$\n",
    "\n",
    "* Assign probability to Events\n",
    "\n",
    "$P(E)$ = $P(\\{2,4,6\\})$ = $\\large \\frac{\\text{Number of Successful Outcomes}}{\\text{Total Number of Possible Outcomes}}$ = 3/6 = 0.5\n",
    "\n",
    "\n"
   ]
  },
  {
   "cell_type": "code",
   "execution_count": 3,
   "metadata": {},
   "outputs": [],
   "source": [
    "# consider a random experiment where we roll a fair six-sided die two times \n",
    "# (\"fair\" means all outcomes have equal chances of occurring). \n",
    "# The sample space of this experiment has 36 possible outcomes (all the sequences of numbers we can get from the two throws)\n",
    "sample_space = [i for i in range(1,7)]\n",
    "sample_space_new = []\n",
    "for i in sample_space:\n",
    "    for j in sample_space:\n",
    "        sample_space_new.append((i,j))"
   ]
  },
  {
   "cell_type": "code",
   "execution_count": 4,
   "metadata": {},
   "outputs": [
    {
     "data": {
      "text/plain": [
       "36"
      ]
     },
     "execution_count": 4,
     "metadata": {},
     "output_type": "execute_result"
    }
   ],
   "source": [
    "len(sample_space_new)"
   ]
  },
  {
   "cell_type": "code",
   "execution_count": 5,
   "metadata": {},
   "outputs": [],
   "source": [
    "sums = [i[0] + i[1] for i in sample_space_new]\n",
    "    "
   ]
  },
  {
   "cell_type": "code",
   "execution_count": 6,
   "metadata": {},
   "outputs": [
    {
     "data": {
      "text/plain": [
       "0.1388888888888889"
      ]
     },
     "execution_count": 6,
     "metadata": {},
     "output_type": "execute_result"
    }
   ],
   "source": [
    "# The sum of the two rolls is 6\n",
    "p_sum_6 = sums.count(6)/len(sums)\n",
    "p_sum_6"
   ]
  },
  {
   "cell_type": "code",
   "execution_count": 7,
   "metadata": {},
   "outputs": [
    {
     "data": {
      "text/plain": [
       "1.0"
      ]
     },
     "execution_count": 7,
     "metadata": {},
     "output_type": "execute_result"
    }
   ],
   "source": [
    "# The sum of the two rolls is lower than 15\n",
    "sums_less_than_15 = len([i for i in sums if i < 15])\n",
    "p_lower_15 = sums_less_than_15 / len(sums)\n",
    "p_lower_15\n"
   ]
  },
  {
   "cell_type": "code",
   "execution_count": 8,
   "metadata": {},
   "outputs": [
    {
     "data": {
      "text/plain": [
       "0.0"
      ]
     },
     "execution_count": 8,
     "metadata": {},
     "output_type": "execute_result"
    }
   ],
   "source": [
    "# The sum of the two rolls is greater than 13\n",
    "sums_greater_than_13 = len([i for i in sums if i > 13])\n",
    "p_greater_13 = sums_greater_than_13 / len(sums)\n",
    "p_greater_13"
   ]
  },
  {
   "cell_type": "markdown",
   "metadata": {},
   "source": [
    "* The probability of an impossible events is  0:\n",
    "\n",
    "<center>$P(0) = 0$</center>\n",
    "\n",
    "* The probability of a certain event is 1:\n",
    "\n",
    "<center>$P(\\Omega)$ = $1$</center>\n",
    "\n",
    "* The probability of any event ranges between 0 and 1 :\n",
    "\n",
    "<center>0 $<= P(Event) <=$ 1 </center>"
   ]
  },
  {
   "cell_type": "code",
   "execution_count": 9,
   "metadata": {},
   "outputs": [],
   "source": [
    "sums_2_4 = [i for i in sums if i in [2,4]]"
   ]
  },
  {
   "cell_type": "code",
   "execution_count": 10,
   "metadata": {},
   "outputs": [
    {
     "data": {
      "text/plain": [
       "0.1111111111111111"
      ]
     },
     "execution_count": 10,
     "metadata": {},
     "output_type": "execute_result"
    }
   ],
   "source": [
    "p_2_or_4 = len(sums_2_4)/len(sums)\n",
    "p_2_or_4"
   ]
  },
  {
   "cell_type": "code",
   "execution_count": 11,
   "metadata": {},
   "outputs": [],
   "source": [
    "sums_12_13 = [i for i in sums if i in [12,13]]"
   ]
  },
  {
   "cell_type": "code",
   "execution_count": 12,
   "metadata": {},
   "outputs": [
    {
     "data": {
      "text/plain": [
       "0.027777777777777776"
      ]
     },
     "execution_count": 12,
     "metadata": {},
     "output_type": "execute_result"
    }
   ],
   "source": [
    "p_12_or_13 = len(sums_12_13)/len(sums)\n",
    "p_12_or_13"
   ]
  },
  {
   "cell_type": "markdown",
   "metadata": {},
   "source": [
    "Rolling a fair six sided die ( fair = all outcomes have equal chances of occuring) \n",
    "\n",
    "Sample Space , $\\Omega$ = $\\{1,2,3,4,5,6\\}$\n",
    "\n",
    "For example events A and events B\n",
    "\n",
    "Getting A , A = {3}\n",
    "\n",
    "Getting B , B = {5}\n",
    "\n",
    "So probability of getting $P(A)$ , $P(B)$ and $P(\\text{A or B})$ in $\\Omega$\n",
    "\n",
    "$P(A)$ =$\\frac{\\text{number of succesful outcomes}}{\\text{total number of possible outcomes}}$ = 1/6\n",
    "\n",
    "$P(B)$ =$\\frac{\\text{number if succesful outcomes}}{\\text{total number of possible outcomes}}$ = 1/6\n",
    "\n",
    "$P(\\text {A or B})$ =$\\frac{\\text{number if succesful outcomes}}{\\text{total number of possible outcomes}}$ 2 / 6\n",
    "\n",
    "> To calculate $P(\\text{A or B})$ can use addition rule \n",
    "\n",
    "$P(\\text{A or B}) = P(A) + P(B)$\n",
    "\n",
    "> Can be extended to more than 2 events\n",
    "\n",
    "$P(\\text{A or B or C ... or Z}) = P(A) + P(B) + P(C) + ... + P(Z)$\n"
   ]
  },
  {
   "cell_type": "code",
   "execution_count": 13,
   "metadata": {},
   "outputs": [
    {
     "data": {
      "text/plain": [
       "0.2222222222222222"
      ]
     },
     "execution_count": 13,
     "metadata": {},
     "output_type": "execute_result"
    }
   ],
   "source": [
    "sums_5_or_9 = [i for i in sums if i in [5,9]]\n",
    "p_5_or_9 = len(sums_5_or_9) / len(sums)\n",
    "p_5_or_9"
   ]
  },
  {
   "cell_type": "code",
   "execution_count": 14,
   "metadata": {},
   "outputs": [
    {
     "data": {
      "text/plain": [
       "0.5"
      ]
     },
     "execution_count": 14,
     "metadata": {},
     "output_type": "execute_result"
    }
   ],
   "source": [
    "sums_even_or_less_2 = [i for i in sums if i % 2 == 0 or i < 2]\n",
    "p_even_or_less_2 = len(sums_even_or_less_2) / len(sums)\n",
    "p_even_or_less_2"
   ]
  },
  {
   "cell_type": "code",
   "execution_count": 15,
   "metadata": {},
   "outputs": [
    {
     "data": {
      "text/plain": [
       "0.4166666666666667"
      ]
     },
     "execution_count": 15,
     "metadata": {},
     "output_type": "execute_result"
    }
   ],
   "source": [
    "sums_4_or_3_multiple = [i for i in sums if i % 3 == 0 or i == 4]\n",
    "p_4_or_3_multiple = len(sums_4_or_3_multiple) / len(sums)\n",
    "p_4_or_3_multiple"
   ]
  },
  {
   "cell_type": "markdown",
   "metadata": {},
   "source": [
    "### Venn Diagrams\n",
    "\n",
    "$\\Omega$ = {1,2,3,4,5,6}\n",
    "\n",
    "A = {3}\n",
    "\n",
    "B = {5}\n"
   ]
  },
  {
   "cell_type": "code",
   "execution_count": 16,
   "metadata": {},
   "outputs": [
    {
     "data": {
      "text/plain": [
       "<matplotlib_venn._common.VennDiagram at 0x1caf73b0c18>"
      ]
     },
     "execution_count": 16,
     "metadata": {},
     "output_type": "execute_result"
    },
    {
     "data": {
      "image/png": "[encoded data removed]",
      "text/plain": [
       "<Figure size 432x288 with 1 Axes>"
      ]
     },
     "metadata": {},
     "output_type": "display_data"
    }
   ],
   "source": [
    "venn2([\n",
    "    set([3]),\n",
    "    set([2,4,6])\n",
    "      ])"
   ]
  },
  {
   "cell_type": "markdown",
   "metadata": {},
   "source": [
    "C = {2,4,6}\n",
    "\n",
    "D = {4,5,6}"
   ]
  },
  {
   "cell_type": "code",
   "execution_count": 17,
   "metadata": {},
   "outputs": [
    {
     "data": {
      "text/plain": [
       "<matplotlib_venn._common.VennDiagram at 0x1caff9a3320>"
      ]
     },
     "execution_count": 17,
     "metadata": {},
     "output_type": "execute_result"
    },
    {
     "data": {
      "image/png": "[encoded data removed]",
      "text/plain": [
       "<Figure size 432x288 with 1 Axes>"
      ]
     },
     "metadata": {},
     "output_type": "display_data"
    }
   ],
   "source": [
    "venn2([\n",
    "    set([2,4,6]),\n",
    "    set([4,5,6])\n",
    "],set_labels=('C','D'))\n"
   ]
  },
  {
   "cell_type": "code",
   "execution_count": 22,
   "metadata": {},
   "outputs": [
    {
     "name": "stdout",
     "output_type": "stream",
     "text": [
      "1.0\n",
      "0.6666666666666666\n"
     ]
    }
   ],
   "source": [
    "samples_space = [1,2,3,4,5,6]\n",
    "p_c = len([2,4,6])/len(samples_space)\n",
    "p_d = len([4,5,6])/len(samples_space)\n",
    "\n",
    "p_c_d_addition = p_c + p_d\n",
    "p_c_d_formula = len([2,4,5,6])/len(samples_space)\n",
    "\n",
    "print(p_c_d_addition)\n",
    "print(p_c_d_formula)"
   ]
  },
  {
   "cell_type": "markdown",
   "metadata": {},
   "source": [
    "addition rule doesn't work for events that share corresponding outcomes $[4,6]$\n",
    "\n",
    "<br>\n",
    "\n",
    "<center>$P(C or D)$ = $P(C) + P(D)$ - $P(C and D)$</center>\n",
    "\n",
    "<br>\n",
    "\n",
    "<center>$P(C or D)$ = $\\large \\frac{\\{2,4,6\\}}{\\{1,2,3,4,5,6\\}}$ + $\\large \\frac{\\{4,5,6\\}}{\\{1,2,3,4,5,6\\}}$ - $\\large \\frac{\\{4,6\\}}{\\{1,2,3,4,5,6\\}}$</center>\n",
    "\n",
    "\n",
    "<br>\n",
    "\n",
    "<center>$P(C or D)$ = $\\large \\frac{\\{2,4,5,6\\}}{\\{1,2,3,4,5,6\\}}$ "
   ]
  },
  {
   "cell_type": "code",
   "execution_count": null,
   "metadata": {},
   "outputs": [],
   "source": [
    "p_f = 0.26 # football probability\n",
    "p_t = 0.11 # tennis probability\n",
    "p_t_f = 0.03 # football_tennis_probability\n",
    "\n",
    "p_f_or_t = p_f + p_t - p_t_f"
   ]
  },
  {
   "cell_type": "markdown",
   "metadata": {},
   "source": [
    "### Mutually exclusive events\n",
    "\n",
    "Events that don't intersect at all (like A and B).\n",
    "\n",
    "Events that have an area where they intersect (like C and D).\n",
    "\n",
    "Events that don't intersect are called mutually exclusive — events A and B are mutually exclusive.\n",
    "\n",
    "\n",
    "If two events are mutually exclusive, it means they can't happen both at the same time — if one of the events happens, the other cannot possibly happen and vice-versa"
   ]
  },
  {
   "cell_type": "markdown",
   "metadata": {},
   "source": [
    "**Examples of mutually exclusive events** :\n",
    "\n",
    "* Getting a 5 (event one) and getting a 3 (event two) when we roll a regular six-sided die — it's impossible to get both a 5 and 3.\n",
    "\n",
    "* A coin lands on heads (event one) and tails (event two) — it's impossible for a coin to land on both heads and tails."
   ]
  },
  {
   "cell_type": "markdown",
   "metadata": {},
   "source": [
    "### Mutually non-exclusive events \n",
    "\n",
    "Events that intersect are called mutually non-exclusive — events C and D on the Venn diagram above are mutually non-exclusive. Mutually non-exclusive events can happen at the same time"
   ]
  },
  {
   "cell_type": "markdown",
   "metadata": {},
   "source": [
    "**Examples of mutually exclusive events** :\n",
    "\n",
    "* Getting a number greater than 2 (event one) and getting an odd number (event two) when we roll a regular six-sided die — we could get a 5, which is both greater than 2 (event one) and odd (event two).\n",
    "\n",
    "* A customer buys a red shirt (event one) and a blue shirt (event two) — the customer can buy both a red shirt (event one) and a blue shirt (event two)."
   ]
  },
  {
   "cell_type": "markdown",
   "metadata": {},
   "source": [
    "Works for both mutually non-exclusive and exclusive events.\n",
    "\n",
    "<br>\n",
    "\n",
    "<center>$P(A or B)$ = $P(A) + P(B)$ - $P(A and B)$</center>\n",
    "\n",
    "** mutually exclusive can be simpliefied to \n",
    "<br>\n",
    "\n",
    "<center>$P(A or B)$ = $P(A) + P(B)$</center>"
   ]
  },
  {
   "cell_type": "code",
   "execution_count": 24,
   "metadata": {},
   "outputs": [],
   "source": [
    "p_h = 0.08\n",
    "p_c = 0.11\n",
    "p_h_or_c = 0.17\n",
    "\n",
    "p_h_and_c = p_h + p_c - p_h_or_c"
   ]
  },
  {
   "cell_type": "markdown",
   "metadata": {},
   "source": [
    "### Set Notation\n",
    "\n",
    "event A = $\\{1,2,6\\}$\n",
    "\n",
    "event B = $\\{1,4,5,6\\}$\n",
    "\n",
    "event C = $\\{HH,HT,TH\\}$\n",
    "\n",
    "event D = $\\{Green,Yellow,Brown\\}$\n",
    "\n",
    "> In set theory, when we say \"set A or set B,\" we are referring to a single set that is the result of the union between set A and set B\n",
    "\n",
    "> A set can only contain unique elements, so the set resulting from a union cannot include the elements that occur in both A and B more than one time.\n",
    "\n",
    "$A \\cup B = \\{1,2,4,5,6\\}$\n",
    "\n",
    "$A \\cup D = \\{1,2,6,Green,Yellow,Brown\\}$\n",
    "\n",
    "$B \\cup C = \\{1,4,5,6,HH,HT,TH\\}$\n",
    "\n",
    ">  \"set A and set B,\" we are referring to a single set that contains all the unique elements that occur in both A and B. In set theory, this \"and\" operation is called intersection\n",
    "\n",
    "$A \\cap B = \\{1,6\\}$\n",
    "\n",
    "$A \\cap D = 0$\n",
    "\n",
    "$B \\cap C = 0$\n",
    "\n"
   ]
  },
  {
   "cell_type": "markdown",
   "metadata": {},
   "source": [
    "```\n",
    "M = {100, 22, 1, 2}\n",
    "N = {22, car insurance, 2, house insurance}\n",
    "O = {HHHH, TTTT, TH}\n",
    "P = {Hockey, Cycling, Athletics, Swimming}\n",
    "```"
   ]
  },
  {
   "cell_type": "code",
   "execution_count": 26,
   "metadata": {},
   "outputs": [],
   "source": [
    "# M ∪ P = Ø\n",
    "operation_1 = False\n",
    "# N ∩ M = {22, 2}\n",
    "operation_2 = True\n",
    "# O ∪ M = {HHHH, TTTT, 100, 22, 2}\n",
    "operation_3 = False\n",
    "# P ∩ N = Ø\n",
    "operation_4 = True"
   ]
  },
  {
   "cell_type": "markdown",
   "metadata": {},
   "source": [
    "<center>$P(A)$ = $ P(B)$ - $P(A \\cap B) - P(A \\cup B)$</center>\n",
    "<br>\n",
    "<center>$P(B)$ = $ P(A)$ - $P(A \\cap B) - P(A \\cup B)$</center>\n",
    "<br>\n",
    "<center>$P(A \\cap B)$ = $P(A) + P(B)$ - $P(A \\cup B)$</center>\n"
   ]
  },
  {
   "cell_type": "code",
   "execution_count": null,
   "metadata": {},
   "outputs": [],
   "source": []
  }
 ],
 "metadata": {
  "kernelspec": {
   "display_name": "'Python Interactive'",
   "language": "python",
   "name": "1d4e2c9e-28ad-43eb-ad59-0dfcefc68a99"
  },
  "language_info": {
   "codemirror_mode": {
    "name": "ipython",
    "version": 3
   },
   "file_extension": ".py",
   "mimetype": "text/x-python",
   "name": "python",
   "nbconvert_exporter": "python",
   "pygments_lexer": "ipython3",
   "version": "3.6.4"
  },
  "latex_envs": {
   "LaTeX_envs_menu_present": true,
   "autoclose": false,
   "autocomplete": true,
   "bibliofile": "biblio.bib",
   "cite_by": "apalike",
   "current_citInitial": 1,
   "eqLabelWithNumbers": true,
   "eqNumInitial": 1,
   "hotkeys": {
    "equation": "Ctrl-E",
    "itemize": "Ctrl-I"
   },
   "labels_anchors": false,
   "latex_user_defs": false,
   "report_style_numbering": false,
   "user_envs_cfg": false
  }
 },
 "nbformat": 4,
 "nbformat_minor": 2
}
