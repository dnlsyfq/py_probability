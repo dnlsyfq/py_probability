{
 "cells": [
  {
   "cell_type": "markdown",
   "metadata": {},
   "source": [
    "### Probability Rules\n",
    "\n",
    "* Random experiment is any process for which cant predict outcomes with certainty\n",
    "\n",
    "* Outcome is possible result of a random experiment, while an event can include more than one outcome \n",
    "\n",
    "### Probability Theory\n",
    "\n",
    "* Outcomes of a random experiment are usually represented as a set\n",
    "\n",
    "e.g. outcomes of a die roll as a set \n",
    "\n",
    "<br>\n",
    "\n",
    "<center>$\\text Outcomes = \\{1,2,3,4,5,6\\}$</center>\n",
    "\n",
    "\n",
    "\n",
    "* Set is a collection of distinct objects ( outcome must occur only once in a set)\n",
    "\n",
    "\n",
    "> in probability theory, **set of all possible outcomes is called a sample space** , $\\Omega$\n",
    "\n",
    "\n",
    "<center>$\\Omega$ =$ \\{1,2,3,4,5,6\\}$</center>"
   ]
  },
  {
   "cell_type": "code",
   "execution_count": 16,
   "metadata": {},
   "outputs": [],
   "source": [
    "import random\n",
    "import math"
   ]
  },
  {
   "cell_type": "code",
   "execution_count": 36,
   "metadata": {},
   "outputs": [],
   "source": [
    "coin_toss_omega = ['HT','HH','TT','TH']\n"
   ]
  },
  {
   "cell_type": "markdown",
   "metadata": {},
   "source": [
    "Case $E$ , getting an even no. from sample space , \n",
    "\n",
    "$\\Omega = \\{1,2,3,4,5,6\\}$\n",
    "\n",
    "$E$ = $\\{2,4,6\\}$\n",
    "\n",
    "* Assign probability to Events\n",
    "\n",
    "$P(E)$ = $P(\\{2,4,6\\})$ = $\\large \\frac{\\text{Number of Successful Outcomes}}{\\text{Total Number of Possible Outcomes}}$ = 3/6 = 0.5\n",
    "\n",
    "\n"
   ]
  },
  {
   "cell_type": "code",
   "execution_count": 7,
   "metadata": {},
   "outputs": [],
   "source": [
    "# consider a random experiment where we roll a fair six-sided die two times \n",
    "# (\"fair\" means all outcomes have equal chances of occurring). \n",
    "# The sample space of this experiment has 36 possible outcomes (all the sequences of numbers we can get from the two throws)\n",
    "sample_space = [i for i in range(1,7)]\n",
    "sample_space_new = []\n",
    "for i in sample_space:\n",
    "    for j in sample_space:\n",
    "        sample_space_new.append((i,j))"
   ]
  },
  {
   "cell_type": "code",
   "execution_count": 8,
   "metadata": {},
   "outputs": [
    {
     "data": {
      "text/plain": [
       "36"
      ]
     },
     "execution_count": 8,
     "metadata": {},
     "output_type": "execute_result"
    }
   ],
   "source": [
    "len(sample_space_new)"
   ]
  },
  {
   "cell_type": "code",
   "execution_count": 13,
   "metadata": {},
   "outputs": [],
   "source": [
    "sums = [i[0] + i[1] for i in sample_space_new]\n",
    "    "
   ]
  },
  {
   "cell_type": "code",
   "execution_count": 17,
   "metadata": {},
   "outputs": [
    {
     "data": {
      "text/plain": [
       "0.1388888888888889"
      ]
     },
     "execution_count": 17,
     "metadata": {},
     "output_type": "execute_result"
    }
   ],
   "source": [
    "# The sum of the two rolls is 6\n",
    "p_sum_6 = sums.count(6)/len(sums)\n",
    "p_sum_6"
   ]
  },
  {
   "cell_type": "code",
   "execution_count": 20,
   "metadata": {},
   "outputs": [
    {
     "data": {
      "text/plain": [
       "1.0"
      ]
     },
     "execution_count": 20,
     "metadata": {},
     "output_type": "execute_result"
    }
   ],
   "source": [
    "# The sum of the two rolls is lower than 15\n",
    "sums_less_than_15 = len([i for i in sums if i < 15])\n",
    "p_lower_15 = sums_less_than_15 / len(sums)\n",
    "p_lower_15\n"
   ]
  },
  {
   "cell_type": "code",
   "execution_count": 22,
   "metadata": {},
   "outputs": [
    {
     "data": {
      "text/plain": [
       "0.0"
      ]
     },
     "execution_count": 22,
     "metadata": {},
     "output_type": "execute_result"
    }
   ],
   "source": [
    "# The sum of the two rolls is greater than 13\n",
    "sums_greater_than_13 = len([i for i in sums if i > 13])\n",
    "p_greater_13 = sums_greater_than_13 / len(sums)\n",
    "p_greater_13"
   ]
  },
  {
   "cell_type": "markdown",
   "metadata": {},
   "source": [
    "* The probability of an impossible events is  0:\n",
    "\n",
    "<center>$P(0) = 0$</center>\n",
    "\n",
    "* The probability of a certain event is 1:\n",
    "\n",
    "<center>$P(\\Omega)$ = $1$</center>\n",
    "\n",
    "* The probability of any event ranges between 0 and 1 :\n",
    "\n",
    "<center>0 $<= P(Event) <=$ 1 </center>"
   ]
  },
  {
   "cell_type": "code",
   "execution_count": 27,
   "metadata": {},
   "outputs": [],
   "source": [
    "sums_2_4 = [i for i in sums if i in [2,4]]"
   ]
  },
  {
   "cell_type": "code",
   "execution_count": 28,
   "metadata": {},
   "outputs": [
    {
     "data": {
      "text/plain": [
       "0.1111111111111111"
      ]
     },
     "execution_count": 28,
     "metadata": {},
     "output_type": "execute_result"
    }
   ],
   "source": [
    "p_2_or_4 = len(sums_2_4)/len(sums)\n",
    "p_2_or_4"
   ]
  },
  {
   "cell_type": "code",
   "execution_count": 30,
   "metadata": {},
   "outputs": [],
   "source": [
    "sums_12_13 = [i for i in sums if i in [12,13]]"
   ]
  },
  {
   "cell_type": "code",
   "execution_count": 31,
   "metadata": {},
   "outputs": [
    {
     "data": {
      "text/plain": [
       "0.027777777777777776"
      ]
     },
     "execution_count": 31,
     "metadata": {},
     "output_type": "execute_result"
    }
   ],
   "source": [
    "p_12_or_13 = len(sums_12_13)/len(sums)\n",
    "p_12_or_13"
   ]
  },
  {
   "cell_type": "code",
   "execution_count": null,
   "metadata": {},
   "outputs": [],
   "source": []
  }
 ],
 "metadata": {
  "kernelspec": {
   "display_name": "'Python Interactive'",
   "language": "python",
   "name": "1d4e2c9e-28ad-43eb-ad59-0dfcefc68a99"
  },
  "language_info": {
   "codemirror_mode": {
    "name": "ipython",
    "version": 3
   },
   "file_extension": ".py",
   "mimetype": "text/x-python",
   "name": "python",
   "nbconvert_exporter": "python",
   "pygments_lexer": "ipython3",
   "version": "3.6.4"
  },
  "latex_envs": {
   "LaTeX_envs_menu_present": true,
   "autoclose": false,
   "autocomplete": true,
   "bibliofile": "biblio.bib",
   "cite_by": "apalike",
   "current_citInitial": 1,
   "eqLabelWithNumbers": true,
   "eqNumInitial": 1,
   "hotkeys": {
    "equation": "Ctrl-E",
    "itemize": "Ctrl-I"
   },
   "labels_anchors": false,
   "latex_user_defs": false,
   "report_style_numbering": false,
   "user_envs_cfg": false
  }
 },
 "nbformat": 4,
 "nbformat_minor": 2
}
