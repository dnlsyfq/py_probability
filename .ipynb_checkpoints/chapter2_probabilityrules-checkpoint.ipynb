{
 "cells": [
  {
   "cell_type": "markdown",
   "metadata": {},
   "source": [
    "### Probability Rules\n",
    "\n",
    "* Random experiment is any process for which cant predict outcomes with certainty\n",
    "\n",
    "* Outcome is possible result of a random experiment, while an event can include more than one outcome \n",
    "\n",
    "### Probability Theory\n",
    "\n",
    "* Outcomes of a random experiment are usually represented as a set\n",
    "\n",
    "e.g. outcomes of a die roll as a set \n",
    "\n",
    "<br>\n",
    "\n",
    "<center>$\\text Outcomes = \\{1,2,3,4,5,6\\}$</center>\n",
    "\n",
    "\n",
    "\n",
    "* Set is a collection of distinct objects ( outcome must occur only once in a set)\n",
    "\n",
    "\n",
    "> in probability theory, set of all possible outcomes is called a sample space , $\\Omega$\n",
    "\n",
    "\n",
    "<center>$\\Omega$ =$ \\{1,2,3,4,5,6\\}$</center>"
   ]
  },
  {
   "cell_type": "code",
   "execution_count": 16,
   "metadata": {},
   "outputs": [],
   "source": [
    "import random\n",
    "import math"
   ]
  },
  {
   "cell_type": "code",
   "execution_count": 36,
   "metadata": {},
   "outputs": [],
   "source": [
    "coin_toss_omega = ['HT','HH','TT','TH']\n"
   ]
  },
  {
   "cell_type": "markdown",
   "metadata": {},
   "source": [
    "$E$ , getting an even no. from sample space , $\\Omega = \\{1,2,3,4,5,6\\}$\n",
    "\n",
    "$E$ = $\\{2,4,6\\}$\n",
    "\n",
    "\n",
    "\n",
    "\n"
   ]
  },
  {
   "cell_type": "code",
   "execution_count": null,
   "metadata": {},
   "outputs": [],
   "source": []
  }
 ],
 "metadata": {
  "kernelspec": {
   "display_name": "'Python Interactive'",
   "language": "python",
   "name": "1d4e2c9e-28ad-43eb-ad59-0dfcefc68a99"
  },
  "language_info": {
   "codemirror_mode": {
    "name": "ipython",
    "version": 3
   },
   "file_extension": ".py",
   "mimetype": "text/x-python",
   "name": "python",
   "nbconvert_exporter": "python",
   "pygments_lexer": "ipython3",
   "version": "3.6.4"
  },
  "latex_envs": {
   "LaTeX_envs_menu_present": true,
   "autoclose": false,
   "autocomplete": true,
   "bibliofile": "biblio.bib",
   "cite_by": "apalike",
   "current_citInitial": 1,
   "eqLabelWithNumbers": true,
   "eqNumInitial": 1,
   "hotkeys": {
    "equation": "Ctrl-E",
    "itemize": "Ctrl-I"
   },
   "labels_anchors": false,
   "latex_user_defs": false,
   "report_style_numbering": false,
   "user_envs_cfg": false
  }
 },
 "nbformat": 4,
 "nbformat_minor": 2
}
