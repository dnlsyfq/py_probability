{
 "cells": [
  {
   "cell_type": "markdown",
   "metadata": {},
   "source": [
    "experiment $A_1 , A_2$\n",
    "\n",
    "* $A_1$ : flipping coin\n",
    "* $A_2$ : throwing six sided die\n",
    "\n",
    "$\\Omega = \\{\n",
    "    (H,1),(H,2),(H,3),(H,4),(H,5),(H,6),\n",
    "    (T,1),(T,2),(T,3),(T,4),(T,5),\n",
    "\\}$\n",
    "\n",
    "Total No. of Outcomes = 2 * 6 = 12 \n",
    "\n",
    "### Rule of Product\n",
    "\n",
    "> Number of outcomes = $a * b$"
   ]
  },
  {
   "cell_type": "code",
   "execution_count": 3,
   "metadata": {},
   "outputs": [],
   "source": [
    "# composite experiment E1E2, where E1 is rolling a fair six-sided die once, and E2 is rolling the same die again\n",
    "\n",
    "n_outcomes = 6 * 6\n",
    "p_six_six = 1/6 * 1/6\n",
    "p_five_five = 1/6 * 1/6\n",
    "p_not_five_five = 1 - p_five_five\n"
   ]
  },
  {
   "cell_type": "code",
   "execution_count": null,
   "metadata": {},
   "outputs": [],
   "source": []
  }
 ],
 "metadata": {
  "kernelspec": {
   "display_name": "Python 3.7.5 64-bit",
   "language": "python",
   "name": "python37564bit755892d5a38644fe88af47f4cac36ffe"
  },
  "language_info": {
   "codemirror_mode": {
    "name": "ipython",
    "version": 3
   },
   "file_extension": ".py",
   "mimetype": "text/x-python",
   "name": "python",
   "nbconvert_exporter": "python",
   "pygments_lexer": "ipython3",
   "version": "3.7.5"
  }
 },
 "nbformat": 4,
 "nbformat_minor": 4
}
