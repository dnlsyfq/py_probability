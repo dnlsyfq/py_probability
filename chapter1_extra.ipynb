{
 "cells": [
  {
   "cell_type": "code",
   "execution_count": 1,
   "metadata": {},
   "outputs": [],
   "source": [
    "# INITIAL CODE\n",
    "def empirical_probability(events,n_experiments):\n",
    "    return events/n_experiments\n",
    "\n",
    "def theoretical_probability(success,n_outcomes):\n",
    "    return success/n_outcomes"
   ]
  },
  {
   "cell_type": "code",
   "execution_count": 3,
   "metadata": {},
   "outputs": [
    {
     "data": {
      "text/plain": [
       "0.01818181818181818"
      ]
     },
     "execution_count": 3,
     "metadata": {},
     "output_type": "execute_result"
    }
   ],
   "source": [
    "emp_probability = empirical_probability(10,550)\n",
    "emp_probability"
   ]
  },
  {
   "cell_type": "code",
   "execution_count": 4,
   "metadata": {},
   "outputs": [
    {
     "data": {
      "text/plain": [
       "0.25"
      ]
     },
     "execution_count": 4,
     "metadata": {},
     "output_type": "execute_result"
    }
   ],
   "source": [
    "th_probability = theoretical_probability(4,16)\n",
    "th_probability"
   ]
  },
  {
   "cell_type": "markdown",
   "metadata": {},
   "source": [
    "```\n",
    "P(A)= [2,4,6]/[1,2,3,4,5,6]\n",
    "p(B)- [5,6]/[1,2,3,4,5,6]\n",
    "p(C)- 0/[1,2,3,4,5,6]\n",
    "```"
   ]
  },
  {
   "cell_type": "code",
   "execution_count": 7,
   "metadata": {},
   "outputs": [],
   "source": [
    "p_A = len([2,4,6])/len([1,2,3,4,5,6])\n",
    "p_B =  len([5,6])/len([1,2,3,4,5,6])\n",
    "p_C = 0/len([1,2,3,4,5,6])"
   ]
  },
  {
   "cell_type": "code",
   "execution_count": 10,
   "metadata": {},
   "outputs": [],
   "source": [
    "all_outcomes = [pA,pB,pC]\n"
   ]
  },
  {
   "cell_type": "code",
   "execution_count": 11,
   "metadata": {},
   "outputs": [],
   "source": [
    "A = [2,4,6]\n"
   ]
  },
  {
   "cell_type": "code",
   "execution_count": 12,
   "metadata": {},
   "outputs": [],
   "source": [
    "B= [5,6]"
   ]
  },
  {
   "cell_type": "code",
   "execution_count": 13,
   "metadata": {},
   "outputs": [],
   "source": [
    "C = []"
   ]
  },
  {
   "cell_type": "code",
   "execution_count": 21,
   "metadata": {},
   "outputs": [],
   "source": [
    "# Simulating Die Roll\n",
    "from numpy.random import seed, randint\n",
    "seed(1)\n",
    "\n",
    "def die_roll():\n",
    "    return randint(1,7)"
   ]
  },
  {
   "cell_type": "code",
   "execution_count": 22,
   "metadata": {},
   "outputs": [],
   "source": [
    "outcomes = []\n",
    "for i in range(1000):\n",
    "    outcomes.append(die_roll())"
   ]
  },
  {
   "cell_type": "code",
   "execution_count": 24,
   "metadata": {},
   "outputs": [],
   "source": [
    "events6 = [i for i in outcomes if i == 6]\n",
    "p_6 = len(events6)/len(outcomes)"
   ]
  },
  {
   "cell_type": "code",
   "execution_count": 26,
   "metadata": {},
   "outputs": [],
   "source": [
    "events1 = [i for i in outcomes if i == 1]\n",
    "p_1 = len(events1)/len(outcomes)"
   ]
  },
  {
   "cell_type": "code",
   "execution_count": 29,
   "metadata": {},
   "outputs": [],
   "source": [
    "eventsEven = [i for i in outcomes if i % 2 == 0]\n",
    "p_even = len(eventsEven)/len(outcomes)"
   ]
  },
  {
   "cell_type": "code",
   "execution_count": 32,
   "metadata": {},
   "outputs": [],
   "source": [
    "#lottery probabilities\n",
    "import numpy as np\n",
    "total_n_outcomes = 13983816\n",
    "# ticket1 = [np.random.randint(1,50) for i in range(6) ]"
   ]
  },
  {
   "cell_type": "code",
   "execution_count": 34,
   "metadata": {},
   "outputs": [],
   "source": [
    "p_1 = 1/total_n_outcomes\n",
    "p_2 = 2 / total_n_outcomes\n",
    "p_100 = 100/ total_n_outcomes\n",
    "p_half = 6991908/total_n_outcomes\n",
    "p_all = 13983816/total_n_outcomes"
   ]
  },
  {
   "cell_type": "code",
   "execution_count": null,
   "metadata": {},
   "outputs": [],
   "source": []
  }
 ],
 "metadata": {
  "kernelspec": {
   "display_name": "Python 3",
   "language": "python",
   "name": "python3"
  },
  "language_info": {
   "codemirror_mode": {
    "name": "ipython",
    "version": 3
   },
   "file_extension": ".py",
   "mimetype": "text/x-python",
   "name": "python",
   "nbconvert_exporter": "python",
   "pygments_lexer": "ipython3",
   "version": "3.7.4"
  }
 },
 "nbformat": 4,
 "nbformat_minor": 2
}
